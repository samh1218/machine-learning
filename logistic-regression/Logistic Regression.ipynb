{
 "cells": [
  {
   "cell_type": "markdown",
   "metadata": {},
   "source": [
    "## What is Logistic Regression?\n",
    "Logisitic Regression is a CLASSIFICATION algorithm that uses Sigmoid Function.\n",
    "\n",
    "## What is Classification?\n",
    "In Classification, we want to predict what the input will be to a small number of discrete (离散的 or fixed number of) varaibles.\n",
    "\n",
    "## What is the difference between Classification and Regression?\n",
    "In Regression you are attempting to find the correlation between a variable (e.g. a feature 'x') and the output (your 'y'). You are trying to see if a 'x' has some sort of influence/connection to 'y.'\n",
    "\n",
    "In Classification, you are doing the same thing except the range of values of 'y' is limited to only a few buckets.\n",
    "\n",
    "So, if you are trying to determine if x='years of smoking' outputs either y0='patient does not have cancer' and y1='patient has cancer,' you are doing a classification problem because y can only be 'y0' or 'y1.'\n",
    "\n",
    "But if you are trying to determine the cost ('y') of medical bills due to 'years of smoking' (our 'x'), you are solving a regression problem.\n",
    "\n",
    "### So, what is the ULTIMATE difference?\n",
    "1. Classification's output is DISCRETE deals with DISCRETE values.\n",
    "2. Regression deals with CONTINUOUS (a.k.a. real number 实数) values. (MEMORIZE THIS!!)\n",
    "\n",
    "### Classification vs Regression Test\n",
    "Read the following scenario and mark if the scenario is a 'R' for 'Regression' or 'C' for 'Classification' problem. \n",
    "\n",
    "1. You are also given a list of the components' cost and effectiveness in a phone. You are also given a list of historical prices and the units sold. Determine the optimal price of the phone so that you can sell the most number of phones.\n",
    "2. "
   ]
  },
  {
   "cell_type": "code",
   "execution_count": null,
   "metadata": {},
   "outputs": [],
   "source": []
  }
 ],
 "metadata": {
  "kernelspec": {
   "display_name": "Python 2",
   "language": "python",
   "name": "python2"
  },
  "language_info": {
   "codemirror_mode": {
    "name": "ipython",
    "version": 2
   },
   "file_extension": ".py",
   "mimetype": "text/x-python",
   "name": "python",
   "nbconvert_exporter": "python",
   "pygments_lexer": "ipython2",
   "version": "2.7.15"
  }
 },
 "nbformat": 4,
 "nbformat_minor": 2
}
